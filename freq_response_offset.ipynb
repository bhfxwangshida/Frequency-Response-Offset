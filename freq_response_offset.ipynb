{
 "cells": [
  {
   "cell_type": "code",
   "execution_count": 1,
   "id": "2520f25c",
   "metadata": {},
   "outputs": [
    {
     "name": "stdout",
     "output_type": "stream",
     "text": [
      "Start recording\n",
      "start playing\n",
      "Recorded sound for 50.18 seconds\n"
     ]
    },
    {
     "data": {
      "image/png": "[encoded data removed]",
      "text/plain": [
       "<Figure size 640x480 with 1 Axes>"
      ]
     },
     "metadata": {},
     "output_type": "display_data"
    }
   ],
   "source": [
    "import sounddevice as sd\n",
    "import numpy as np\n",
    "import matplotlib.pyplot as plt\n",
    "import time\n",
    "import wave\n",
    "import pyaudio\n",
    "import threading\n",
    "\n",
    "# Constants\n",
    "CHANNELS = 1\n",
    "SAMPLE_RATE = 44100\n",
    "DURATION = 50  # Duration of the sweep sound in seconds\n",
    "TOTAL_SAMPLES = int(SAMPLE_RATE * DURATION)\n",
    "WINDOW_SIZE = 40000  # Updated window size\n",
    "audio = None\n",
    "\n",
    "def record_sound():\n",
    "    global audio\n",
    "    # Record audio from the microphone\n",
    "    print(\"Start recording\")\n",
    "    start_time = time.time()\n",
    "    audio = sd.rec(frames=TOTAL_SAMPLES, samplerate=SAMPLE_RATE, channels=CHANNELS, blocking=True)\n",
    "    print(\"Recorded sound for {:.2f} seconds\".format(time.time() - start_time))\n",
    "    audio = audio.flatten()\n",
    "\n",
    "def play_sound():\n",
    "    global data\n",
    "    stream = audio_player.open(format=audio_player.get_format_from_width(wav_file.getsampwidth()),\n",
    "                          channels=wav_file.getnchannels(),\n",
    "                          rate=wav_file.getframerate(),\n",
    "                          output=True)\n",
    "    print(\"start playing\")\n",
    "    stream.write(data)\n",
    "    stream.stop_stream()\n",
    "    stream.close()\n",
    "    audio_player.terminate()\n",
    "    wav_file.close()\n",
    "\n",
    "wav_file = wave.open('sweep.wav', 'rb')\n",
    "audio_player = pyaudio.PyAudio()\n",
    "data = wav_file.readframes(wav_file.getnframes())\n",
    "\n",
    "# Create and start the threads\n",
    "play_thread = threading.Thread(target=play_sound)\n",
    "record_thread = threading.Thread(target=record_sound)\n",
    "\n",
    "record_thread.start()\n",
    "play_thread.start()\n",
    "# Wait for both threads to finish\n",
    "record_thread.join()\n",
    "play_thread.join()\n",
    "\n",
    "# Create a Lanczos window\n",
    "def lanczos_window(n):\n",
    "    if n == 0:\n",
    "        return 1.0\n",
    "    elif n >= WINDOW_SIZE:\n",
    "        return 0.0\n",
    "    else:\n",
    "        return np.sin(np.pi * n / WINDOW_SIZE) ** 2 / (np.pi * n / WINDOW_SIZE) ** 2\n",
    "\n",
    "window = np.array([lanczos_window(n) for n in range(WINDOW_SIZE)])\n",
    "\n",
    "# Apply the Lanczos window\n",
    "num_chunks = len(audio) // WINDOW_SIZE\n",
    "audio = audio[:num_chunks * WINDOW_SIZE].reshape((num_chunks, WINDOW_SIZE)) * window\n",
    "\n",
    "# Compute the FFT and extract the magnitude spectrum\n",
    "fft = np.abs(np.fft.fft(audio, axis=1))\n",
    "freq_bins = np.fft.fftfreq(WINDOW_SIZE, 1 / SAMPLE_RATE)[:WINDOW_SIZE]  # Updated freq_bins\n",
    "spectrum = np.mean(fft[:, :WINDOW_SIZE], axis=0)  # Updated spectrum\n",
    "\n",
    "# Plot the spectrum\n",
    "plt.plot(freq_bins, spectrum)\n",
    "plt.xlabel('Frequency (Hz)')\n",
    "plt.ylabel('Magnitude')\n",
    "plt.title('Sweep Sound Spectrum')\n",
    "plt.xlim(20, 20000)  # Adjusted frequency range\n",
    "plt.show()\n"
   ]
  },
  {
   "cell_type": "code",
   "execution_count": 2,
   "id": "dec26583",
   "metadata": {},
   "outputs": [],
   "source": [
    "def calculate_offset_dB(spectrum):\n",
    "\n",
    "    # Find the maximum dB value\n",
    "    max_dB = np.max(spectrum)\n",
    "\n",
    "    # Calculate the offset dB values for each frequency\n",
    "    offset_dB = max_dB - spectrum\n",
    "\n",
    "    return offset_dB"
   ]
  },
  {
   "cell_type": "code",
   "execution_count": 3,
   "id": "fe59a6df",
   "metadata": {},
   "outputs": [
    {
     "name": "stdout",
     "output_type": "stream",
     "text": [
      "[4.05492312 2.03293299 3.51646549 ... 3.32202851 3.51646549 2.03293299]\n",
      "40000\n"
     ]
    }
   ],
   "source": [
    "offset_dB_values = calculate_offset_dB(spectrum)\n",
    "print(offset_dB_values)\n",
    "print(offset_dB_values.size)"
   ]
  },
  {
   "cell_type": "code",
   "execution_count": 6,
   "id": "fe172892",
   "metadata": {},
   "outputs": [],
   "source": [
    "#IMPORTANT!#\n",
    "#adjust the normalization rate based on your own sound system.\n",
    "offset_dB_values_normalize = offset_dB_values / 2.4"
   ]
  },
  {
   "cell_type": "code",
   "execution_count": 5,
   "id": "99620fc4",
   "metadata": {},
   "outputs": [
    {
     "name": "stdout",
     "output_type": "stream",
     "text": [
      "Conversion completed. The output has been saved in 'output.txt'.\n"
     ]
    }
   ],
   "source": [
    "import os\n",
    "\n",
    "with open('output.txt', 'w') as file:\n",
    "    for i, value in enumerate(offset_dB_values_normalize[0:18142]):\n",
    "        line = f\"{freq_bins[i]} {value}; \"\n",
    "        file.write(line)\n",
    "\n",
    "# Remove the trailing semicolon from the last line\n",
    "with open('output.txt', 'rb+') as file:\n",
    "    file.seek(-2, os.SEEK_END)\n",
    "    file.truncate()\n",
    "\n",
    "print(\"Conversion completed. The output has been saved in 'output.txt'.\")"
   ]
  },
  {
   "cell_type": "code",
   "execution_count": null,
   "id": "cb9961c3",
   "metadata": {},
   "outputs": [],
   "source": []
  }
 ],
 "metadata": {
  "kernelspec": {
   "display_name": "Python 3 (ipykernel)",
   "language": "python",
   "name": "python3"
  },
  "language_info": {
   "codemirror_mode": {
    "name": "ipython",
    "version": 3
   },
   "file_extension": ".py",
   "mimetype": "text/x-python",
   "name": "python",
   "nbconvert_exporter": "python",
   "pygments_lexer": "ipython3",
   "version": "3.9.13"
  }
 },
 "nbformat": 4,
 "nbformat_minor": 5
}
